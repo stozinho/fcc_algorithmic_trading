{
 "cells": [
  {
   "cell_type": "markdown",
   "metadata": {},
   "source": [
    "# Equal-Weight S&P 500 Index Fund\n",
    "\n",
    "## Introduction & Library Imports\n",
    "\n",
    "The S&P 500 is the world's most popular stock market index. The largest fund that is benchmarked to this index is the SPDR® S&P 500® ETF Trust. It has more than US$250 billion of assets under management.\n",
    "\n",
    "The goal of this section of the course is to create a Python script that will accept the value of your portfolio and tell you how many shares of each S&P 500 constituent you should purchase to get an equal-weight version of the index fund.\n",
    "\n",
    "## Library Imports\n",
    "\n",
    "The first thing we need to do is import the open-source software libraries that we'll be using in this tutorial."
   ]
  },
  {
   "cell_type": "code",
   "execution_count": 1,
   "metadata": {},
   "outputs": [],
   "source": [
    "import numpy as np\n",
    "import pandas as pd\n",
    "import requests\n",
    "import xlsxwriter\n",
    "import math"
   ]
  },
  {
   "cell_type": "markdown",
   "metadata": {},
   "source": [
    "## Importing Our List of Stocks\n",
    "\n",
    "The next thing we need to do is import the constituents of the S&P 500.\n",
    "\n",
    "These constituents change over time, so in an ideal world you would connect directly to the index provider (Standard & Poor's) and pull their real-time constituents on a regular basis.\n",
    "\n",
    "Paying for access to the index provider's API is outside of the scope of this course. \n",
    "\n",
    "There's a static version of the S&P 500 constituents available here. [Click this link to download them now](https://drive.google.com/file/d/1ZJSpbY69DVckVZlO9cC6KkgfSufybcHN/view?usp=sharing). Move this file into the `starter-files` folder so it can be accessed by other files in that directory.\n",
    "\n",
    "Now it's time to import these stocks to our Jupyter Notebook file."
   ]
  },
  {
   "cell_type": "code",
   "execution_count": 2,
   "metadata": {},
   "outputs": [
    {
     "data": {
      "text/html": [
       "<div>\n",
       "<style scoped>\n",
       "    .dataframe tbody tr th:only-of-type {\n",
       "        vertical-align: middle;\n",
       "    }\n",
       "\n",
       "    .dataframe tbody tr th {\n",
       "        vertical-align: top;\n",
       "    }\n",
       "\n",
       "    .dataframe thead th {\n",
       "        text-align: right;\n",
       "    }\n",
       "</style>\n",
       "<table border=\"1\" class=\"dataframe\">\n",
       "  <thead>\n",
       "    <tr style=\"text-align: right;\">\n",
       "      <th></th>\n",
       "      <th>Ticker</th>\n",
       "    </tr>\n",
       "  </thead>\n",
       "  <tbody>\n",
       "    <tr>\n",
       "      <th>0</th>\n",
       "      <td>A</td>\n",
       "    </tr>\n",
       "    <tr>\n",
       "      <th>1</th>\n",
       "      <td>AAL</td>\n",
       "    </tr>\n",
       "    <tr>\n",
       "      <th>2</th>\n",
       "      <td>AAP</td>\n",
       "    </tr>\n",
       "    <tr>\n",
       "      <th>3</th>\n",
       "      <td>AAPL</td>\n",
       "    </tr>\n",
       "    <tr>\n",
       "      <th>4</th>\n",
       "      <td>ABBV</td>\n",
       "    </tr>\n",
       "    <tr>\n",
       "      <th>...</th>\n",
       "      <td>...</td>\n",
       "    </tr>\n",
       "    <tr>\n",
       "      <th>500</th>\n",
       "      <td>YUM</td>\n",
       "    </tr>\n",
       "    <tr>\n",
       "      <th>501</th>\n",
       "      <td>ZBH</td>\n",
       "    </tr>\n",
       "    <tr>\n",
       "      <th>502</th>\n",
       "      <td>ZBRA</td>\n",
       "    </tr>\n",
       "    <tr>\n",
       "      <th>503</th>\n",
       "      <td>ZION</td>\n",
       "    </tr>\n",
       "    <tr>\n",
       "      <th>504</th>\n",
       "      <td>ZTS</td>\n",
       "    </tr>\n",
       "  </tbody>\n",
       "</table>\n",
       "<p>505 rows × 1 columns</p>\n",
       "</div>"
      ],
      "text/plain": [
       "    Ticker\n",
       "0        A\n",
       "1      AAL\n",
       "2      AAP\n",
       "3     AAPL\n",
       "4     ABBV\n",
       "..     ...\n",
       "500    YUM\n",
       "501    ZBH\n",
       "502   ZBRA\n",
       "503   ZION\n",
       "504    ZTS\n",
       "\n",
       "[505 rows x 1 columns]"
      ]
     },
     "execution_count": 2,
     "metadata": {},
     "output_type": "execute_result"
    }
   ],
   "source": [
    "stocks = pd.read_csv('sp_500_stocks.csv')\n",
    "type(stocks)\n",
    "stocks"
   ]
  },
  {
   "cell_type": "markdown",
   "metadata": {},
   "source": [
    "## Acquiring an API Token\n",
    "\n",
    "Now it's time to import our IEX Cloud API token. This is the data provider that we will be using throughout this course.\n",
    "\n",
    "API tokens (and other sensitive information) should be stored in a `secrets.py` file that doesn't get pushed to your local Git repository. We'll be using a sandbox API token in this course, which means that the data we'll use is randomly-generated and (more importantly) has no cost associated with it.\n",
    "\n",
    "[Click here](http://nickmccullum.com/algorithmic-trading-python/secrets.py) to download your `secrets.py` file. Move the file into the same directory as this Jupyter Notebook before proceeding."
   ]
  },
  {
   "cell_type": "code",
   "execution_count": 3,
   "metadata": {},
   "outputs": [
    {
     "name": "stdout",
     "output_type": "stream",
     "text": [
      "pk_9e0e17017ccd4a0b931feed227bfbd81\n"
     ]
    }
   ],
   "source": [
    "from my_secrets import IEX_CLOUD_API_TOKEN\n",
    "print(IEX_CLOUD_API_TOKEN)"
   ]
  },
  {
   "cell_type": "markdown",
   "metadata": {},
   "source": [
    "## Making Our First API Call\n",
    "\n",
    "Now it's time to structure our API calls to IEX cloud. \n",
    "\n",
    "We need the following information from the API:\n",
    "\n",
    "* Market capitalization for each stock\n",
    "* Price of each stock\n",
    "\n"
   ]
  },
  {
   "cell_type": "code",
   "execution_count": 9,
   "metadata": {},
   "outputs": [
    {
     "name": "stdout",
     "output_type": "stream",
     "text": [
      "[{'avgTotalVolume': 53551384, 'calculationPrice': 'close', 'change': -1.05, 'changePercent': -0.00542, 'close': None, 'closeSource': 'official', 'closeTime': None, 'companyName': 'Apple Inc', 'currency': 'USD', 'delayedPrice': None, 'delayedPriceTime': None, 'extendedChange': None, 'extendedChangePercent': None, 'extendedPrice': None, 'extendedPriceTime': None, 'high': None, 'highSource': 'Close', 'highTime': 1703883600433, 'iexAskPrice': 0, 'iexAskSize': 0, 'iexBidPrice': 0, 'iexBidSize': 0, 'iexClose': 192.62, 'iexCloseTime': 1703883599011, 'iexLastUpdated': 1703883599011, 'iexMarketPercent': 3.3979393458352383, 'iexOpen': 194, 'iexOpenTime': 1703860200778, 'iexRealtimePrice': 192.62, 'iexRealtimeSize': 9, 'iexVolume': 676404, 'lastTradeTime': 1703883599600, 'latestPrice': 192.53, 'latestSource': 'Close', 'latestTime': 'December 29, 2023', 'latestUpdate': 1703883600433, 'latestVolume': None, 'low': None, 'lowSource': 'Close', 'lowTime': 1703883600000, 'marketCap': 2994371342560, 'oddLotDelayedPrice': None, 'oddLotDelayedPriceTime': None, 'open': None, 'openTime': None, 'openSource': 'official', 'peRatio': 31.41, 'previousClose': 193.58, 'previousVolume': 34049898, 'primaryExchange': 'NASDAQ', 'symbol': 'AAPL', 'volume': None, 'week52High': 199.62, 'week52Low': 123.15, 'ytdChange': -0.00542, 'isUSMarketOpen': False}]\n"
     ]
    }
   ],
   "source": [
    "symbol = 'AAPL'\n",
    "api_url = f'https://api.iex.cloud/v1/data/core/quote/aapl?token={IEX_CLOUD_API_TOKEN}'\n",
    "\n",
    "data = requests.get(api_url).json()\n",
    "\n",
    "#type(data)\n",
    "#dir(data)\n",
    "#print(data.status_code)\n",
    "print(data)"
   ]
  },
  {
   "cell_type": "markdown",
   "metadata": {},
   "source": [
    "## Parsing Our API Call\n",
    "\n",
    "The API call that we executed in the last code block contains all of the information required to build our equal-weight S&P 500 strategy. \n",
    "\n",
    "With that said, the data isn't in a proper format yet. We need to parse it first."
   ]
  },
  {
   "cell_type": "code",
   "execution_count": 17,
   "metadata": {},
   "outputs": [
    {
     "name": "stdout",
     "output_type": "stream",
     "text": [
      "192.53\n",
      "2.99437134256\n"
     ]
    }
   ],
   "source": [
    "type(data)\n",
    "price = data[0]['latestPrice']\n",
    "print(price)\n",
    "market_cap = data[0]['marketCap']\n",
    "print(market_cap/1000000000000)"
   ]
  },
  {
   "cell_type": "markdown",
   "metadata": {},
   "source": [
    "## Adding Our Stocks Data to a Pandas DataFrame\n",
    "\n",
    "The next thing we need to do is add our stock's price and market capitalization to a pandas DataFrame. Think of a DataFrame like the Python version of a spreadsheet. It stores tabular data."
   ]
  },
  {
   "cell_type": "code",
   "execution_count": 39,
   "metadata": {},
   "outputs": [
    {
     "data": {
      "text/html": [
       "<div>\n",
       "<style scoped>\n",
       "    .dataframe tbody tr th:only-of-type {\n",
       "        vertical-align: middle;\n",
       "    }\n",
       "\n",
       "    .dataframe tbody tr th {\n",
       "        vertical-align: top;\n",
       "    }\n",
       "\n",
       "    .dataframe thead th {\n",
       "        text-align: right;\n",
       "    }\n",
       "</style>\n",
       "<table border=\"1\" class=\"dataframe\">\n",
       "  <thead>\n",
       "    <tr style=\"text-align: right;\">\n",
       "      <th></th>\n",
       "      <th>Ticker</th>\n",
       "      <th>Stock Price</th>\n",
       "      <th>Market Capitalisation</th>\n",
       "      <th>Number of Shares to Buy</th>\n",
       "    </tr>\n",
       "  </thead>\n",
       "  <tbody>\n",
       "    <tr>\n",
       "      <th>0</th>\n",
       "      <td>AAPL</td>\n",
       "      <td>192.53</td>\n",
       "      <td>2994371342560</td>\n",
       "      <td>N/A</td>\n",
       "    </tr>\n",
       "  </tbody>\n",
       "</table>\n",
       "</div>"
      ],
      "text/plain": [
       "  Ticker  Stock Price  Market Capitalisation Number of Shares to Buy\n",
       "0   AAPL       192.53          2994371342560                     N/A"
      ]
     },
     "execution_count": 39,
     "metadata": {},
     "output_type": "execute_result"
    }
   ],
   "source": [
    "stock_lst = []\n",
    "stock_lst.append([symbol, price, market_cap, 'N/A'])\n",
    "\n"
   ]
  },
  {
   "cell_type": "code",
   "execution_count": null,
   "metadata": {},
   "outputs": [],
   "source": []
  },
  {
   "cell_type": "markdown",
   "metadata": {},
   "source": [
    "## Looping Through The Tickers in Our List of Stocks\n",
    "\n",
    "Using the same logic that we outlined above, we can pull data for all S&P 500 stocks and store their data in the DataFrame using a `for` loop."
   ]
  },
  {
   "cell_type": "code",
   "execution_count": 42,
   "metadata": {},
   "outputs": [
    {
     "name": "stdout",
     "output_type": "stream",
     "text": [
      "[['A', 139.03, 40736360301, 'N/A'], ['AAL', 13.74, 8979647157, 'N/A'], ['AAP', 61.03, 3631406450, 'N/A'], ['AAPL', 192.53, 2994371342560, 'N/A'], ['ABBV', 154.97, 278946000000, 'N/A'], ['ABC', 179.98, 36387430583, 'N/A'], ['ABMD', 381.02, 17180642928, 'N/A'], ['ABT', 110.07, 191087963058, 'N/A'], ['ACN', 350.91, 222826362493, 'N/A'], ['ADBE', 596.6, 271631980000, 'N/A'], ['ADI', 198.56, 98537718784, 'N/A'], ['ADM', 72.22, 38520794236, 'N/A'], ['ADP', 232.97, 95821675063, 'N/A'], ['ADSK', 243.48, 52084103331, 'N/A'], ['AEE', 72.34, 19021444772, 'N/A'], ['AEP', 81.22, 42711618912, 'N/A'], ['AES', 19.25, 12890358924, 'N/A'], ['AFL', 82.5, 48211340843, 'N/A'], ['AIG', 67.75, 47563233238, 'N/A'], ['AIV', 7.83, 1141298232, 'N/A'], ['AIZ', 168.49, 8860993564, 'N/A'], ['AJG', 224.88, 48551592000, 'N/A'], ['AKAM', 118.35, 17850916073, 'N/A'], ['ALB', 144.48, 16955200739, 'N/A'], ['ALGN', 274, 20985417236, 'N/A'], ['ALK', 39.07, 5003033718, 'N/A'], ['ALL', 139.98, 36630955219, 'N/A'], ['ALLE', 126.69, 11121806737, 'N/A'], ['ALXN', 182.5, 40336009475, 'N/A'], ['AMAT', 162.07, 134691045707, 'N/A'], ['AMCR', 9.64, 13943657490, 'N/A'], ['AMD', 147.41, 235856000000, 'N/A'], ['AME', 164.89, 38056390553, 'N/A'], ['AMGN', 288.02, 154141975337, 'N/A'], ['AMP', 379.83, 38437349607, 'N/A'], ['AMT', 215.88, 100643256000, 'N/A'], ['AMZN', 152.09, 1571702711825, 'N/A'], ['ANET', 235.51, 73267194442, 'N/A'], ['ANSS', 362.88, 31524402753, 'N/A'], ['ANTM', 482.58, 116342693132, 'N/A'], ['AON', 291.02, 58266960722, 'N/A'], ['AOS', 82.44, 12594814446, 'N/A'], ['APA', 35.88, 11005092825, 'N/A'], ['APD', 273.8, 60840475379, 'N/A'], ['APH', 99.13, 59310493199, 'N/A'], ['APTV', 89.72, 25378392008, 'N/A'], ['ARE', 126.77, 22029514557, 'N/A'], ['ATO', 115.9, 17210698917, 'N/A'], ['ATVI', 94.42, 74289497374, 'N/A'], ['AVB', 187.22, 26588069269, 'N/A'], ['AVGO', 1116.25, 522561910146, 'N/A'], ['AVY', 202.16, 16280203160, 'N/A'], ['AWK', 131.99, 25699112554, 'N/A'], ['AXP', 187.34, 136531512043, 'N/A'], ['AZO', 2585.61, 44710119901, 'N/A'], ['BA', 260.66, 157693251906, 'N/A'], ['BAC', 33.67, 266455356911, 'N/A'], ['BAX', 38.66, 19613126858, 'N/A'], ['BBY', 78.28, 16861512000, 'N/A'], ['BDX', 243.83, 70809451150, 'N/A'], ['BEN', 29.79, 14761747841, 'N/A'], ['BF.B', 57.1, 27579091642, 'N/A'], ['BIIB', 258.77, 37495284442, 'N/A'], ['BIO', 322.89, 9399291736, 'N/A'], ['BK', 52.05, 40030264120, 'N/A'], ['BKNG', 3547.22, 123762055303, 'N/A'], ['BKR', 34.18, 34393074463, 'N/A'], ['BLK', 811.8, 120765373958, 'N/A'], ['BLL', 69.49, 22222129619, 'N/A'], ['BMY', 51.31, 104403419742, 'N/A'], ['BR', 205.75, 24205870250, 'N/A'], ['BRK.B', 356.66, 776891808483, 'N/A'], ['BSX', 57.81, 84690654338, 'N/A'], ['BWA', 35.85, 8426737130, 'N/A'], ['BXP', 70.17, 11012492431, 'N/A'], ['C', 51.44, 98450086634, 'N/A'], ['CAG', 28.66, 13698559469, 'N/A'], ['CAH', 100.8, 24843987806, 'N/A'], ['CARR', 57.45, 48203225964, 'N/A'], ['CAT', 295.67, 150521085963, 'N/A'], ['CB', 226, 92205716948, 'N/A'], ['CBOE', 178.56, 18848077396, 'N/A'], ['CBRE', 93.09, 28373161845, 'N/A'], ['CCI', 115.19, 49956620129, 'N/A'], ['CCL', 18.54, 20754514546, 'N/A'], ['CDNS', 272.37, 74101526940, 'N/A'], ['CDW', 227.32, 30451871081, 'N/A'], ['CE', 155.37, 16912827297, 'N/A'], ['CERN', 94.92, 27915791082, 'N/A'], ['CF', 79.5, 15188991830, 'N/A'], ['CFG', 33.14, 15450629126, 'N/A'], ['CHD', 94.56, 23297856578, 'N/A'], ['CHRW', 86.39, 10077483086, 'N/A'], ['CHTR', 388.68, 57493656374, 'N/A'], ['CI', 299.45, 87625048819, 'N/A'], ['CINF', 103.46, 16233672711, 'N/A'], ['CL', 79.71, 65631002765, 'N/A'], ['CLX', 142.59, 17689586784, 'N/A'], ['CMA', 55.81, 7359821638, 'N/A'], ['CMCSA', 43.85, 176085611150, 'N/A'], ['CME', 210.6, 75813859883, 'N/A'], ['CMG', 2286.96, 62764839634, 'N/A'], ['CMI', 239.57, 33957816829, 'N/A'], ['CMS', 58.07, 16942710336, 'N/A'], ['CNC', 74.21, 39643056210, 'N/A'], ['CNP', 28.57, 18034057109, 'N/A'], ['COF', 131.12, 49936628614, 'N/A'], ['COG', 22.25, 8892528027, 'N/A'], ['COO', 378.44, 18742612628, 'N/A'], ['COP', 116.07, 137822439828, 'N/A'], ['COST', 660.08, 292896252833, 'N/A'], ['COTY', 12.42, 11074554342, 'N/A'], ['CPB', 43.23, 12946347091, 'N/A'], ['CPRT', 49, 47049800000, 'N/A'], ['CRM', 263.14, 254719520000, 'N/A'], ['CSCO', 50.52, 205286791152, 'N/A'], ['CSX', 34.67, 68512462983, 'N/A'], ['CTAS', 602.66, 61383402754, 'N/A'], ['CTL', 11, 12072940000, 'N/A'], ['CTSH', 75.53, 37871689599, 'N/A'], ['CTVA', 47.92, 33770613680, 'N/A'], ['CTXS', 103.9, 13183359916, 'N/A'], ['CVS', 78.96, 101613354115, 'N/A'], ['CVX', 149.16, 281576590871, 'N/A'], ['CXO', 65.6, 12877584384, 'N/A'], ['D', 47, 39329448237, 'N/A'], ['DAL', 40.23, 25886533910, 'N/A'], ['DD', 76.93, 33083168910, 'N/A'], ['DE', 399.87, 112065743593, 'N/A'], ['DFS', 112.4, 28106514142, 'N/A'], ['DG', 135.95, 29840651681, 'N/A'], ['DGX', 137.88, 15502537386, 'N/A'], ['DHI', 151.98, 50609293038, 'N/A'], ['DHR', 231.34, 170943396933, 'N/A'], ['DIS', 90.29, 165259224507, 'N/A'], ['DISCA', 24.44, 12449494875, 'N/A'], ['DISCK', 24.42, None, 'N/A'], ['DISH', 5.77, 3062174757, 'N/A'], ['DLR', 134.58, 40757834272, 'N/A'], ['DLTR', 142.05, 30948708651, 'N/A'], ['DOV', 153.81, 21516503049, 'N/A'], ['DOW', 54.84, 38464611809, 'N/A'], ['DPZ', 412.23, 14378987622, 'N/A'], ['DRE', 48.2, 18556648911, 'N/A'], ['DRI', 164.3, 19767704717, 'N/A'], ['DTE', 110.26, 22742087239, 'N/A'], ['DUK', 97.04, 74789866085, 'N/A'], ['DVA', 104.76, 9564588000, 'N/A'], ['DVN', 45.3, 29023710000, 'N/A'], ['DXC', 22.87, 4428628217, 'N/A'], ['DXCM', 124.09, 47945141594, 'N/A'], ['EA', 136.81, 36797299614, 'N/A'], ['EBAY', 43.62, 22638780000, 'N/A'], ['ECL', 198.35, 56557483297, 'N/A'], ['ED', 90.97, 31404643296, 'N/A'], ['EFX', 247.29, 30470276537, 'N/A'], ['EIX', 71.49, 27421327292, 'N/A'], ['EL', 146.25, 52196625000, 'N/A'], ['EMN', 89.82, 10649419648, 'N/A'], ['EMR', 97.33, 55487833000, 'N/A'], ['EOG', 120.95, 70531944362, 'N/A'], ['EQIX', 805.39, 75612770855, 'N/A'], ['EQR', 61.16, 23223976963, 'N/A'], ['ES', 61.72, 21560413619, 'N/A'], ['ESS', 247.94, 15913930716, 'N/A'], ['ETFC', 49.26, 10891188960, 'N/A'], ['ETN', 240.82, 96159426000, 'N/A'], ['ETR', 101.19, 21398960358, 'N/A'], ['EVRG', 52.2, 11991423515, 'N/A'], ['EW', 76.25, 46245625000, 'N/A'], ['EXC', 35.9, 35736203234, 'N/A'], ['EXPD', 127.2, 18493527991, 'N/A'], ['EXPE', 151.79, 20237368356, 'N/A'], ['EXR', 160.33, 33874173201, 'N/A'], ['F', 12.19, 47932327781, 'N/A'], ['FANG', 155.08, 27756979998, 'N/A'], ['FAST', 64.77, 37010430697, 'N/A'], ['FB', 196.64, 561210585170, 'N/A'], ['FBHS', 57.62, None, 'N/A'], ['FCX', 42.57, 61044411277, 'N/A'], ['FDX', 252.97, 63215317868, 'N/A'], ['FE', 36.66, 21036051411, 'N/A'], ['FFIV', 178.98, 10686396625, 'N/A'], ['FIS', 60.07, 35590489912, 'N/A'], ['FISV', 114.23, None, 'N/A'], ['FITB', 34.49, 23488263086, 'N/A'], ['FLIR', 57.34, 7565007314, 'N/A'], ['FLS', 41.22, 5408419770, 'N/A'], ['FLT', 282.61, 20405608331, 'N/A'], ['FMC', 63.05, 7866047825, 'N/A'], ['FOX', 27.65, 13849026799, 'N/A'], ['FOXA', 29.67, 13849026825, 'N/A'], ['FRC', 3.51, 630560307, 'N/A'], ['FRT', 103.05, 8400971943, 'N/A'], ['FTI', 20.14, 8770167784, 'N/A'], ['FTNT', 58.53, 44945749064, 'N/A'], ['FTV', 73.63, 25876053685, 'N/A'], ['GD', 259.67, 70863127636, 'N/A'], ['GE', 127.63, 138910710668, 'N/A'], ['GILD', 81.01, 100941853914, 'N/A'], ['GIS', 65.14, 36992361114, 'N/A'], ['GL', 121.72, 11453983701, 'N/A'], ['GLW', 30.45, 25979175066, 'N/A'], ['GM', 35.92, 49191764920, 'N/A'], ['GOOG', 140.93, 1633509670054, 'N/A'], ['GOOGL', 139.69, 1761351210000, 'N/A'], ['GPC', 138.5, 19417233394, 'N/A'], ['GPN', 127, 33069345342, 'N/A'], ['GPS', 20.91, 7754125223, 'N/A'], ['GRMN', 128.54, 24593696638, 'N/A'], ['GS', 385.77, 125804405237, 'N/A'], ['GWW', 828.69, 41131199460, 'N/A'], ['HAL', 36.15, 32356120473, 'N/A'], ['HAS', 51.06, 7085297295, 'N/A'], ['HBAN', 12.72, 18419515183, 'N/A'], ['HBI', 4.46, 1561180728, 'N/A'], ['HCA', 270.68, 72450425344, 'N/A'], ['HD', 346.55, 344907992038, 'N/A'], ['HES', 144.16, 44278986189, 'N/A'], ['HFC', 36.39, 5931624949, 'N/A'], ['HIG', 80.38, 24175878775, 'N/A'], ['HII', 259.64, 10313798116, 'N/A'], ['HLT', 182.09, 46695215137, 'N/A'], ['HOLX', 71.45, 17148200203, 'N/A'], ['HON', 209.71, 138251452553, 'N/A'], ['HPE', 16.98, 22074000000, 'N/A'], ['HPQ', 30.09, 29816254690, 'N/A'], ['HRB', 48.37, 6961946533, 'N/A'], ['HRL', 32.11, 17557748000, 'N/A'], ['HSIC', 75.71, 9837631797, 'N/A'], ['HST', 19.47, 13734138000, 'N/A'], ['HSY', 186.44, 38235115200, 'N/A'], ['HUM', 457.81, 56361318723, 'N/A'], ['HWM', 54.12, 22283604438, 'N/A'], ['IBM', 163.55, 149340543923, 'N/A'], ['ICE', 128.43, 71792370000, 'N/A'], ['IDXX', 555.05, 46097847195, 'N/A'], ['IEX', 217.11, 16419060772, 'N/A'], ['IFF', 80.97, 20669951480, 'N/A'], ['ILMN', 139.24, 22111312000, 'N/A'], ['INCY', 62.79, 14071819054, 'N/A'], ['INFO', 108.61, 45801486922, 'N/A'], ['INTC', 50.25, 211854000000, 'N/A'], ['INTU', 625.03, 174945897000, 'N/A'], ['IP', 36.15, 12508525865, 'N/A'], ['IPG', 32.64, 12501254836, 'N/A'], ['IPGP', 108.54, 5092963157, 'N/A'], ['IQV', 231.38, 42226850000, 'N/A'], ['IR', 77.34, 31306998124, 'N/A'], ['IRM', 69.98, 20433429969, 'N/A'], ['ISRG', 337.36, 118774872277, 'N/A'], ['IT', 451.11, 35141469000, 'N/A'], ['ITW', 261.94, 78814047407, 'N/A'], ['IVZ', 17.84, 8020050478, 'N/A'], ['J', 129.8, 16395878844, 'N/A'], ['JBHT', 199.74, 20601743871, 'N/A'], ['JCI', 57.64, 39234040080, 'N/A'], ['JKHY', 163.41, 11896248000, 'N/A'], ['JNJ', 156.74, 377316850899, 'N/A'], ['JNPR', 29.48, 9400242761, 'N/A'], ['JPM', 170.1, 491760518804, 'N/A'], ['K', 55.91, 19015550100, 'N/A'], ['KEY', 14.4, 13482147758, 'N/A'], ['KEYS', 159.09, 27847846050, 'N/A'], ['KHC', 36.98, 45357400904, 'N/A'], ['KIM', 21.31, 13209518563, 'N/A'], ['KLAC', 581.3, 79017455291, 'N/A'], ['KMB', 121.51, 41063089400, 'N/A'], ['KMI', 17.64, 39209732178, 'N/A'], ['KMX', 76.74, 12178638000, 'N/A'], ['KO', 58.93, 254778787020, 'N/A'], ['KR', 45.71, 32884845762, 'N/A'], ['KSS', 28.68, 3175223716, 'N/A'], ['KSU', 293.59, 26710947380, 'N/A'], ['L', 69.59, 15536037090, 'N/A'], ['LB', 79.92, 21957908112, 'N/A'], ['LDOS', 108.24, 14883695767, 'N/A'], ['LEG', 26.17, 3488969378, 'N/A'], ['LEN', 149.04, 41867558037, 'N/A'], ['LH', 227.29, 19296921000, 'N/A'], ['LHX', 210.62, 39920967244, 'N/A'], ['LIN', 410.71, 199149371505, 'N/A'], ['LKQ', 47.79, 12788523665, 'N/A'], ['LLY', 582.92, 553370174592, 'N/A'], ['LMT', 453.24, 112448261587, 'N/A'], ['LNC', 26.97, 4575780688, 'N/A'], ['LNT', 51.3, 13090687163, 'N/A'], ['LOW', 222.55, 127991309130, 'N/A'], ['LRCX', 783.26, 103227401920, 'N/A'], ['LUV', 28.88, 17215812174, 'N/A'], ['LVS', 49.21, 37357889506, 'N/A'], ['LW', 108.09, 15665164943, 'N/A'], ['LYB', 95.08, 30840317377, 'N/A'], ['LYV', 93.6, 21556080000, 'N/A'], ['MA', 426.51, 396841111380, 'N/A'], ['MAA', 134.46, 15689801384, 'N/A'], ['MAR', 225.51, 66230335887, 'N/A'], ['MAS', 66.98, 15037071019, 'N/A'], ['MCD', 296.51, 215071165315, 'N/A'], ['MCHP', 90.18, 48791464974, 'N/A'], ['MCK', 462.98, 61605269305, 'N/A'], ['MCO', 390.56, 71472480000, 'N/A'], ['MDLZ', 72.43, 98569667222, 'N/A'], ['MDT', 82.38, 109536922140, 'N/A'], ['MET', 66.13, 48948779844, 'N/A'], ['MGM', 44.68, 15261945463, 'N/A'], ['MHK', 103.5, 6590880000, 'N/A'], ['MKC', 68.42, 18352106666, 'N/A'], ['MKTX', 292.85, 11100610447, 'N/A'], ['MLM', 498.91, 30836210695, 'N/A'], ['MMC', 189.47, 93422435017, 'N/A'], ['MMM', 109.32, 60379298594, 'N/A'], ['MNST', 57.61, 59939826058, 'N/A'], ['MO', 40.34, 71347206829, 'N/A'], ['MOS', 35.73, 11677830807, 'N/A'], ['MPC', 148.36, 56331888016, 'N/A'], ['MRK', 109.02, 276259196618, 'N/A'], ['MRO', 24.16, 14139576169, 'N/A'], ['MS', 93.25, 153052304835, 'N/A'], ['MSCI', 565.65, 44737931624, 'N/A'], ['MSFT', 376.04, 2794827926197, 'N/A'], ['MSI', 313.09, 51972940000, 'N/A'], ['MTB', 137.08, 22749842448, 'N/A'], ['MTD', 1212.96, 26301584474, 'N/A'], ['MU', 85.34, 93447300000, 'N/A'], ['MXIM', 103.14, 27699922819, 'N/A'], ['MYL', 15.855, 8586211830, 'N/A'], ['NBL', 8.45, 4095292500, 'N/A'], ['NCLH', 20.04, 8525515677, 'N/A'], ['NDAQ', 58.14, 33544720100, 'N/A'], ['NEE', 60.74, 124620728188, 'N/A'], ['NEM', 41.39, 32896779988, 'N/A'], ['NFLX', 486.88, 215101153495, 'N/A'], ['NI', 26.55, 10976179959, 'N/A'], ['NKE', 108.57, 169369200000, 'N/A'], ['NLOK', 21.62, 12352934758, 'N/A'], ['NLSN', 27.98, 10068164861, 'N/A'], ['NOC', 468.14, 70592050105, 'N/A'], ['NOV', 20.28, 7988839479, 'N/A'], ['NOW', 706.49, 144830450000, 'N/A'], ['NRG', 51.7, 11672021341, 'N/A'], ['NSC', 236.38, 53360982130, 'N/A'], ['NTAP', 88.16, 18163697104, 'N/A'], ['NTRS', 84.38, 17469728901, 'N/A'], ['NUE', 174.04, 42785819386, 'N/A'], ['NVDA', 495.22, 1223193400000, 'N/A'], ['NVR', 7000.45, 22296132231, 'N/A'], ['NWL', 8.68, 3595256000, 'N/A'], ['NWS', 25.72, 14267855367, 'N/A'], ['NWSA', 24.55, 14267855383, 'N/A'], ['O', 57.42, 41567695638, 'N/A'], ['ODFL', 405.33, 44227037376, 'N/A'], ['OKE', 70.22, 40906712541, 'N/A'], ['OMC', 86.51, 17123285047, 'N/A'], ['ORCL', 105.43, 289818846460, 'N/A'], ['ORLY', 950.08, 56208799224, 'N/A'], ['OTIS', 89.47, 36616386894, 'N/A'], ['OXY', 59.71, 52566942677, 'N/A'], ['PAYC', 206.72, 12450366269, 'N/A'], ['PAYX', 119.11, 42858377695, 'N/A'], ['PBCT', 19.41, 8371850392, 'N/A'], ['PCAR', 97.65, 51078355971, 'N/A'], ['PEAK', 19.8, 10832072209, 'N/A'], ['PEG', 61.15, 30471919567, 'N/A'], ['PEP', 169.84, 233506895136, 'N/A'], ['PFE', 28.79, 162560238677, 'N/A'], ['PFG', 78.67, 18755880930, 'N/A'], ['PG', 146.54, 345378105360, 'N/A'], ['PGR', 159.28, 93185315667, 'N/A'], ['PH', 460.7, 59188812117, 'N/A'], ['PHM', 103.22, 22253713836, 'N/A'], ['PKG', 162.91, 14600694224, 'N/A'], ['PKI', 115.24, 14455821070, 'N/A'], ['PLD', 133.3, 123165334300, 'N/A'], ['PM', 94.08, 146050355633, 'N/A'], ['PNC', 154.85, 61683120884, 'N/A'], ['PNR', 72.71, 12018887309, 'N/A'], ['PNW', 71.84, 8146537177, 'N/A'], ['PPG', 149.55, 35263890000, 'N/A'], ['PPL', 27.1, 19976070942, 'N/A'], ['PRGO', 32.18, 4360598816, 'N/A'], ['PRU', 103.71, 37439310000, 'N/A'], ['PSA', 305, 53627987130, 'N/A'], ['PSX', 133.14, 58575685255, 'N/A'], ['PVH', 122.12, 7282932355, 'N/A'], ['PWR', 215.8, 31352479262, 'N/A'], ['PXD', 224.88, 52466501834, 'N/A'], ['PYPL', 61.41, 67551000000, 'N/A'], ['QCOM', 144.63, 160973190000, 'N/A'], ['QRVO', 112.61, 10962105471, 'N/A'], ['RCL', 129.49, 33179883617, 'N/A'], ['RE', 351.28, 13796600687, 'N/A'], ['REG', 67, 12366925727, 'N/A'], ['REGN', 878.29, 94090187127, 'N/A'], ['RF', 19.38, 18024658498, 'N/A'], ['RHI', 87.92, 9310284444, 'N/A'], ['RJF', 111.5, 23259653629, 'N/A'], ['RL', 144.2, 9773876000, 'N/A'], ['RMD', 172.02, 25302750358, 'N/A'], ['ROK', 310.48, 35603528046, 'N/A'], ['ROL', 43.67, 21137933259, 'N/A'], ['ROP', 545.17, 58236213525, 'N/A'], ['ROST', 138.39, 46591244552, 'N/A'], ['RSG', 164.91, 51886705710, 'N/A'], ['RTX', 84.14, 120985014036, 'N/A'], ['SBAC', 253.69, 27370614100, 'N/A'], ['SBUX', 96.01, 109134567000, 'N/A'], ['SCHW', 68.8, 121891698139, 'N/A'], ['SEE', 36.52, 5274788623, 'N/A'], ['SHW', 311.9, 79835823471, 'N/A'], ['SIVB', 106.04, 6285481871, 'N/A'], ['SJM', 126.38, 13414454455, 'N/A'], ['SLB', 52.04, 74074810158, 'N/A'], ['SLG', 45.17, 2909702294, 'N/A'], ['SNA', 288.84, 15244975200, 'N/A'], ['SNPS', 514.91, 78259563351, 'N/A'], ['SO', 70.12, 76474228752, 'N/A'], ['SPG', 142.64, 46534789870, 'N/A'], ['SPGI', 440.52, 146693160000, 'N/A'], ['SRE', 74.73, 23514060912, 'N/A'], ['STE', 219.85, 21721215396, 'N/A'], ['STT', 77.46, 23902878762, 'N/A'], ['STX', 85.37, 17821841200, 'N/A'], ['STZ', 241.75, 44400453132, 'N/A'], ['SWK', 98.1, 15039849517, 'N/A'], ['SWKS', 112.42, 17982126148, 'N/A'], ['SYF', 38.19, 15803188508, 'N/A'], ['SYK', 299.46, 113763251889, 'N/A'], ['SYY', 73.13, 36884722166, 'N/A'], ['T', 16.78, 119641400000, 'N/A'], ['TAP', 61.21, 12468949725, 'N/A'], ['TDG', 1011.6, 55955747606, 'N/A'], ['TDY', 446.29, 21058058424, 'N/A'], ['TEL', 140.5, 43664488138, 'N/A'], ['TFC', 36.92, 49239025403, 'N/A'], ['TFX', 249.34, 11718980000, 'N/A'], ['TGT', 142.42, 65749873556, 'N/A'], ['TIF', 131.46, 15960711882, 'N/A'], ['TJX', 93.81, 106913082109, 'N/A'], ['TMO', 530.79, 205082564264, 'N/A'], ['TMUS', 160.33, 185417646370, 'N/A'], ['TPR', 36.81, 8436352231, 'N/A'], ['TROW', 107.69, 24030400944, 'N/A'], ['TRV', 190.49, 43507810469, 'N/A'], ['TSCO', 215.03, 23247797286, 'N/A'], ['TSN', 53.75, 19330112500, 'N/A'], ['TT', 243.9, 55501148885, 'N/A'], ['TTWO', 160.95, 27372383439, 'N/A'], ['TWTR', 53.7, 41093718362, 'N/A'], ['TXN', 170.46, 154812469693, 'N/A'], ['TXT', 80.42, 15762758852, 'N/A'], ['TYL', 418.12, 17612964650, 'N/A'], ['UA', 8.35, 3453987353, 'N/A'], ['UAA', 8.79, 3899143091, 'N/A'], ['UAL', 41.26, 13533977913, 'N/A'], ['UDR', 38.29, 12594658251, 'N/A'], ['UHS', 152.44, 11123585215, 'N/A'], ['ULTA', 489.99, 23794657715, 'N/A'], ['UNH', 526.47, 486945419006, 'N/A'], ['UNM', 45.22, 8819964112, 'N/A'], ['UNP', 245.62, 149729336722, 'N/A'], ['UPS', 157.23, 135991081982, 'N/A'], ['URI', 573.42, 38867239059, 'N/A'], ['USB', 43.28, 67387496932, 'N/A'], ['V', 260.35, 492169434081, 'N/A'], ['VAR', 177.07, 16261898618, 'N/A'], ['VFC', 18.8, 7311007995, 'N/A'], ['VIAC', 29.58, 19317433987, 'N/A'], ['VLO', 130, 44258882460, 'N/A'], ['VMC', 227.01, 30163587583, 'N/A'], ['VNO', 28.25, 5376589607, 'N/A'], ['VRSK', 238.86, 34631489244, 'N/A'], ['VRSN', 205.96, 21028516000, 'N/A'], ['VRTX', 406.89, 104848710738, 'N/A'], ['VTR', 49.84, 20054656430, 'N/A'], ['VZ', 37.7, 158494632544, 'N/A'], ['WAB', 126.9, 22740480000, 'N/A'], ['WAT', 329.23, 19466374638, 'N/A'], ['WBA', 26.11, 22556810023, 'N/A'], ['WDC', 52.37, 16857903000, 'N/A'], ['WEC', 84.17, 26550124474, 'N/A'], ['WELL', 90.17, 49906310641, 'N/A'], ['WFC', 49.22, 180085315847, 'N/A'], ['WHR', 121.77, 6679451149, 'N/A'], ['WLTW', 231.56, 28853787821, 'N/A'], ['WM', 179.1, 72137078976, 'N/A'], ['WMB', 34.83, 42370648746, 'N/A'], ['WMT', 157.65, 424430643278, 'N/A'], ['WRB', 70.72, 18236710244, 'N/A'], ['WRK', 41.52, 10650201116, 'N/A'], ['WST', 352.12, 26053242600, 'N/A'], ['WU', 11.92, 4343159375, 'N/A'], ['WY', 34.77, 25382134770, 'N/A'], ['WYNN', 91.11, 10290509422, 'N/A'], ['XEL', 61.91, 34162948309, 'N/A'], ['XLNX', 194.92, 48414620999, 'N/A'], ['XOM', 99.98, 396212530242, 'N/A'], ['XRAY', 35.59, 7540111316, 'N/A'], ['XRX', 18.33, 2252866962, 'N/A'], ['XYL', 114.36, 27569654921, 'N/A'], ['YUM', 130.66, 36625071895, 'N/A'], ['ZBH', 121.7, 25432952529, 'N/A'], ['ZBRA', 273.33, 14038120561, 'N/A'], ['ZION', 43.87, 6499287812, 'N/A'], ['ZTS', 197.37, 90615269193, 'N/A']]\n"
     ]
    }
   ],
   "source": [
    "stock_lst = []\n",
    "\n",
    "\n",
    "final_dataframe = pd.DataFrame(columns = my_columns)\n",
    "for stock in stocks['Ticker']:\n",
    "    api_url = f'https://api.iex.cloud/v1/data/core/quote/{stock}?token={IEX_CLOUD_API_TOKEN}'\n",
    "    data = requests.get(api_url).json()\n",
    "    price = data[0]['latestPrice']\n",
    "    market_cap = data[0]['marketCap']\n",
    "    stock_lst.append([stock, price, market_cap, 'N/A'])\n"
   ]
  },
  {
   "cell_type": "code",
   "execution_count": 43,
   "metadata": {},
   "outputs": [
    {
     "data": {
      "text/html": [
       "<div>\n",
       "<style scoped>\n",
       "    .dataframe tbody tr th:only-of-type {\n",
       "        vertical-align: middle;\n",
       "    }\n",
       "\n",
       "    .dataframe tbody tr th {\n",
       "        vertical-align: top;\n",
       "    }\n",
       "\n",
       "    .dataframe thead th {\n",
       "        text-align: right;\n",
       "    }\n",
       "</style>\n",
       "<table border=\"1\" class=\"dataframe\">\n",
       "  <thead>\n",
       "    <tr style=\"text-align: right;\">\n",
       "      <th></th>\n",
       "      <th>Ticker</th>\n",
       "      <th>Stock Price</th>\n",
       "      <th>Market Capitalisation</th>\n",
       "      <th>Number of Shares to Buy</th>\n",
       "    </tr>\n",
       "  </thead>\n",
       "  <tbody>\n",
       "    <tr>\n",
       "      <th>0</th>\n",
       "      <td>A</td>\n",
       "      <td>139.03</td>\n",
       "      <td>4.073636e+10</td>\n",
       "      <td>N/A</td>\n",
       "    </tr>\n",
       "    <tr>\n",
       "      <th>1</th>\n",
       "      <td>AAL</td>\n",
       "      <td>13.74</td>\n",
       "      <td>8.979647e+09</td>\n",
       "      <td>N/A</td>\n",
       "    </tr>\n",
       "    <tr>\n",
       "      <th>2</th>\n",
       "      <td>AAP</td>\n",
       "      <td>61.03</td>\n",
       "      <td>3.631406e+09</td>\n",
       "      <td>N/A</td>\n",
       "    </tr>\n",
       "    <tr>\n",
       "      <th>3</th>\n",
       "      <td>AAPL</td>\n",
       "      <td>192.53</td>\n",
       "      <td>2.994371e+12</td>\n",
       "      <td>N/A</td>\n",
       "    </tr>\n",
       "    <tr>\n",
       "      <th>4</th>\n",
       "      <td>ABBV</td>\n",
       "      <td>154.97</td>\n",
       "      <td>2.789460e+11</td>\n",
       "      <td>N/A</td>\n",
       "    </tr>\n",
       "    <tr>\n",
       "      <th>...</th>\n",
       "      <td>...</td>\n",
       "      <td>...</td>\n",
       "      <td>...</td>\n",
       "      <td>...</td>\n",
       "    </tr>\n",
       "    <tr>\n",
       "      <th>500</th>\n",
       "      <td>YUM</td>\n",
       "      <td>130.66</td>\n",
       "      <td>3.662507e+10</td>\n",
       "      <td>N/A</td>\n",
       "    </tr>\n",
       "    <tr>\n",
       "      <th>501</th>\n",
       "      <td>ZBH</td>\n",
       "      <td>121.70</td>\n",
       "      <td>2.543295e+10</td>\n",
       "      <td>N/A</td>\n",
       "    </tr>\n",
       "    <tr>\n",
       "      <th>502</th>\n",
       "      <td>ZBRA</td>\n",
       "      <td>273.33</td>\n",
       "      <td>1.403812e+10</td>\n",
       "      <td>N/A</td>\n",
       "    </tr>\n",
       "    <tr>\n",
       "      <th>503</th>\n",
       "      <td>ZION</td>\n",
       "      <td>43.87</td>\n",
       "      <td>6.499288e+09</td>\n",
       "      <td>N/A</td>\n",
       "    </tr>\n",
       "    <tr>\n",
       "      <th>504</th>\n",
       "      <td>ZTS</td>\n",
       "      <td>197.37</td>\n",
       "      <td>9.061527e+10</td>\n",
       "      <td>N/A</td>\n",
       "    </tr>\n",
       "  </tbody>\n",
       "</table>\n",
       "<p>505 rows × 4 columns</p>\n",
       "</div>"
      ],
      "text/plain": [
       "    Ticker  Stock Price  Market Capitalisation Number of Shares to Buy\n",
       "0        A       139.03           4.073636e+10                     N/A\n",
       "1      AAL        13.74           8.979647e+09                     N/A\n",
       "2      AAP        61.03           3.631406e+09                     N/A\n",
       "3     AAPL       192.53           2.994371e+12                     N/A\n",
       "4     ABBV       154.97           2.789460e+11                     N/A\n",
       "..     ...          ...                    ...                     ...\n",
       "500    YUM       130.66           3.662507e+10                     N/A\n",
       "501    ZBH       121.70           2.543295e+10                     N/A\n",
       "502   ZBRA       273.33           1.403812e+10                     N/A\n",
       "503   ZION        43.87           6.499288e+09                     N/A\n",
       "504    ZTS       197.37           9.061527e+10                     N/A\n",
       "\n",
       "[505 rows x 4 columns]"
      ]
     },
     "execution_count": 43,
     "metadata": {},
     "output_type": "execute_result"
    }
   ],
   "source": [
    "my_columns = [ 'Ticker', 'Stock Price', 'Market Capitalisation', 'Number of Shares to Buy' ] \n",
    "final_dataframe = pd.DataFrame(stock_lst, columns = my_columns)\n",
    "\n",
    "final_dataframe"
   ]
  },
  {
   "cell_type": "code",
   "execution_count": null,
   "metadata": {},
   "outputs": [],
   "source": []
  },
  {
   "cell_type": "markdown",
   "metadata": {},
   "source": [
    "## Using Batch API Calls to Improve Performance\n",
    "\n",
    "Batch API calls are one of the easiest ways to improve the performance of your code.\n",
    "\n",
    "This is because HTTP requests are typically one of the slowest components of a script.\n",
    "\n",
    "Also, API providers will often give you discounted rates for using batch API calls since they are easier for the API provider to respond to.\n",
    "\n",
    "IEX Cloud limits their batch API calls to 100 tickers per request. Still, this reduces the number of API calls we'll make in this section from 500 to 5 - huge improvement! In this section, we'll split our list of stocks into groups of 100 and then make a batch API call for each group."
   ]
  },
  {
   "cell_type": "code",
   "execution_count": null,
   "metadata": {},
   "outputs": [],
   "source": [
    "def chunks(lst, n):\n",
    "    \"\"\"Yield successive n-sized chunks from lst.\"\"\"\n",
    "    for i in range(0, len(lst), n):\n",
    "        yield lst[i:i + n]"
   ]
  },
  {
   "cell_type": "code",
   "execution_count": 57,
   "metadata": {},
   "outputs": [
    {
     "data": {
      "text/html": [
       "<div>\n",
       "<style scoped>\n",
       "    .dataframe tbody tr th:only-of-type {\n",
       "        vertical-align: middle;\n",
       "    }\n",
       "\n",
       "    .dataframe tbody tr th {\n",
       "        vertical-align: top;\n",
       "    }\n",
       "\n",
       "    .dataframe thead th {\n",
       "        text-align: right;\n",
       "    }\n",
       "</style>\n",
       "<table border=\"1\" class=\"dataframe\">\n",
       "  <thead>\n",
       "    <tr style=\"text-align: right;\">\n",
       "      <th></th>\n",
       "      <th>Ticker</th>\n",
       "      <th>Stock Price</th>\n",
       "      <th>Market Capitalisation</th>\n",
       "      <th>Number of Shares to Buy</th>\n",
       "    </tr>\n",
       "  </thead>\n",
       "  <tbody>\n",
       "    <tr>\n",
       "      <th>0</th>\n",
       "      <td>A</td>\n",
       "      <td>139.990</td>\n",
       "      <td>4.101764e+10</td>\n",
       "      <td>N/A</td>\n",
       "    </tr>\n",
       "    <tr>\n",
       "      <th>1</th>\n",
       "      <td>AAL</td>\n",
       "      <td>13.430</td>\n",
       "      <td>8.777050e+09</td>\n",
       "      <td>N/A</td>\n",
       "    </tr>\n",
       "    <tr>\n",
       "      <th>2</th>\n",
       "      <td>AAP</td>\n",
       "      <td>61.390</td>\n",
       "      <td>3.652827e+09</td>\n",
       "      <td>N/A</td>\n",
       "    </tr>\n",
       "    <tr>\n",
       "      <th>3</th>\n",
       "      <td>AAPL</td>\n",
       "      <td>186.420</td>\n",
       "      <td>2.899344e+12</td>\n",
       "      <td>N/A</td>\n",
       "    </tr>\n",
       "    <tr>\n",
       "      <th>4</th>\n",
       "      <td>ABBV</td>\n",
       "      <td>157.860</td>\n",
       "      <td>2.841480e+11</td>\n",
       "      <td>N/A</td>\n",
       "    </tr>\n",
       "    <tr>\n",
       "      <th>...</th>\n",
       "      <td>...</td>\n",
       "      <td>...</td>\n",
       "      <td>...</td>\n",
       "      <td>...</td>\n",
       "    </tr>\n",
       "    <tr>\n",
       "      <th>500</th>\n",
       "      <td>YUM</td>\n",
       "      <td>130.360</td>\n",
       "      <td>3.654098e+10</td>\n",
       "      <td>N/A</td>\n",
       "    </tr>\n",
       "    <tr>\n",
       "      <th>501</th>\n",
       "      <td>ZBH</td>\n",
       "      <td>122.175</td>\n",
       "      <td>2.553222e+10</td>\n",
       "      <td>N/A</td>\n",
       "    </tr>\n",
       "    <tr>\n",
       "      <th>502</th>\n",
       "      <td>ZBRA</td>\n",
       "      <td>266.650</td>\n",
       "      <td>1.369504e+10</td>\n",
       "      <td>N/A</td>\n",
       "    </tr>\n",
       "    <tr>\n",
       "      <th>503</th>\n",
       "      <td>ZION</td>\n",
       "      <td>43.860</td>\n",
       "      <td>6.497806e+09</td>\n",
       "      <td>N/A</td>\n",
       "    </tr>\n",
       "    <tr>\n",
       "      <th>504</th>\n",
       "      <td>ZTS</td>\n",
       "      <td>197.735</td>\n",
       "      <td>9.078285e+10</td>\n",
       "      <td>N/A</td>\n",
       "    </tr>\n",
       "  </tbody>\n",
       "</table>\n",
       "<p>505 rows × 4 columns</p>\n",
       "</div>"
      ],
      "text/plain": [
       "    Ticker  Stock Price  Market Capitalisation Number of Shares to Buy\n",
       "0        A      139.990           4.101764e+10                     N/A\n",
       "1      AAL       13.430           8.777050e+09                     N/A\n",
       "2      AAP       61.390           3.652827e+09                     N/A\n",
       "3     AAPL      186.420           2.899344e+12                     N/A\n",
       "4     ABBV      157.860           2.841480e+11                     N/A\n",
       "..     ...          ...                    ...                     ...\n",
       "500    YUM      130.360           3.654098e+10                     N/A\n",
       "501    ZBH      122.175           2.553222e+10                     N/A\n",
       "502   ZBRA      266.650           1.369504e+10                     N/A\n",
       "503   ZION       43.860           6.497806e+09                     N/A\n",
       "504    ZTS      197.735           9.078285e+10                     N/A\n",
       "\n",
       "[505 rows x 4 columns]"
      ]
     },
     "execution_count": 57,
     "metadata": {},
     "output_type": "execute_result"
    }
   ],
   "source": [
    "my_columns = [ 'Ticker', 'Stock Price', 'Market Capitalisation', 'Number of Shares to Buy' ] \n",
    "stock_lst = []\n",
    "\n",
    "# stocks['Ticker'] is read in from the PDF\n",
    "symbol_groups = list(chunks(stocks['Ticker'], 100))\n",
    "symbol_strings = []\n",
    "for i in range(0, len(symbol_groups)):    \n",
    "    symbol_strings.append(','.join(symbol_groups[i]))\n",
    "\n",
    "for symbol_string in symbol_strings:\n",
    "    batch_api_call_url = f'https://api.iex.cloud/v1/data/core/QUOTE/{symbol_string}?token={IEX_CLOUD_API_TOKEN}'    \n",
    "    data = requests.get(batch_api_call_url).json()\n",
    "    for symbol in symbol_string.split(','):\n",
    "        for item in data:\n",
    "            if item['symbol'] == symbol:\n",
    "                stock_lst.append([symbol, item['latestPrice'], item['marketCap'], 'N/A'])       \n",
    "\n",
    "final_dataframe = pd.DataFrame(stock_lst, columns = my_columns)\n",
    "final_dataframe"
   ]
  },
  {
   "cell_type": "markdown",
   "metadata": {},
   "source": [
    "## Calculating the Number of Shares to Buy\n",
    "\n",
    "As you can see in the DataFrame above, we stil haven't calculated the number of shares of each stock to buy.\n",
    "\n",
    "\n",
    "We'll do that next."
   ]
  },
  {
   "cell_type": "code",
   "execution_count": 71,
   "metadata": {},
   "outputs": [
    {
     "name": "stdin",
     "output_type": "stream",
     "text": [
      "Enter the value of your portfolio:  10000000\n"
     ]
    }
   ],
   "source": [
    "portfolio_size = float(input('Enter the value of your portfolio: '))\n"
   ]
  },
  {
   "cell_type": "code",
   "execution_count": 77,
   "metadata": {},
   "outputs": [
    {
     "data": {
      "text/html": [
       "<div>\n",
       "<style scoped>\n",
       "    .dataframe tbody tr th:only-of-type {\n",
       "        vertical-align: middle;\n",
       "    }\n",
       "\n",
       "    .dataframe tbody tr th {\n",
       "        vertical-align: top;\n",
       "    }\n",
       "\n",
       "    .dataframe thead th {\n",
       "        text-align: right;\n",
       "    }\n",
       "</style>\n",
       "<table border=\"1\" class=\"dataframe\">\n",
       "  <thead>\n",
       "    <tr style=\"text-align: right;\">\n",
       "      <th></th>\n",
       "      <th>Ticker</th>\n",
       "      <th>Stock Price</th>\n",
       "      <th>Market Capitalisation</th>\n",
       "      <th>Number of Shares to Buy</th>\n",
       "    </tr>\n",
       "  </thead>\n",
       "  <tbody>\n",
       "    <tr>\n",
       "      <th>0</th>\n",
       "      <td>A</td>\n",
       "      <td>139.990</td>\n",
       "      <td>4.101764e+10</td>\n",
       "      <td>141</td>\n",
       "    </tr>\n",
       "    <tr>\n",
       "      <th>1</th>\n",
       "      <td>AAL</td>\n",
       "      <td>13.430</td>\n",
       "      <td>8.777050e+09</td>\n",
       "      <td>1474</td>\n",
       "    </tr>\n",
       "    <tr>\n",
       "      <th>2</th>\n",
       "      <td>AAP</td>\n",
       "      <td>61.390</td>\n",
       "      <td>3.652827e+09</td>\n",
       "      <td>322</td>\n",
       "    </tr>\n",
       "    <tr>\n",
       "      <th>3</th>\n",
       "      <td>AAPL</td>\n",
       "      <td>186.420</td>\n",
       "      <td>2.899344e+12</td>\n",
       "      <td>106</td>\n",
       "    </tr>\n",
       "    <tr>\n",
       "      <th>4</th>\n",
       "      <td>ABBV</td>\n",
       "      <td>157.860</td>\n",
       "      <td>2.841480e+11</td>\n",
       "      <td>125</td>\n",
       "    </tr>\n",
       "    <tr>\n",
       "      <th>...</th>\n",
       "      <td>...</td>\n",
       "      <td>...</td>\n",
       "      <td>...</td>\n",
       "      <td>...</td>\n",
       "    </tr>\n",
       "    <tr>\n",
       "      <th>500</th>\n",
       "      <td>YUM</td>\n",
       "      <td>130.360</td>\n",
       "      <td>3.654098e+10</td>\n",
       "      <td>151</td>\n",
       "    </tr>\n",
       "    <tr>\n",
       "      <th>501</th>\n",
       "      <td>ZBH</td>\n",
       "      <td>122.175</td>\n",
       "      <td>2.553222e+10</td>\n",
       "      <td>162</td>\n",
       "    </tr>\n",
       "    <tr>\n",
       "      <th>502</th>\n",
       "      <td>ZBRA</td>\n",
       "      <td>266.650</td>\n",
       "      <td>1.369504e+10</td>\n",
       "      <td>74</td>\n",
       "    </tr>\n",
       "    <tr>\n",
       "      <th>503</th>\n",
       "      <td>ZION</td>\n",
       "      <td>43.860</td>\n",
       "      <td>6.497806e+09</td>\n",
       "      <td>451</td>\n",
       "    </tr>\n",
       "    <tr>\n",
       "      <th>504</th>\n",
       "      <td>ZTS</td>\n",
       "      <td>197.735</td>\n",
       "      <td>9.078285e+10</td>\n",
       "      <td>100</td>\n",
       "    </tr>\n",
       "  </tbody>\n",
       "</table>\n",
       "<p>505 rows × 4 columns</p>\n",
       "</div>"
      ],
      "text/plain": [
       "    Ticker  Stock Price  Market Capitalisation Number of Shares to Buy\n",
       "0        A      139.990           4.101764e+10                     141\n",
       "1      AAL       13.430           8.777050e+09                    1474\n",
       "2      AAP       61.390           3.652827e+09                     322\n",
       "3     AAPL      186.420           2.899344e+12                     106\n",
       "4     ABBV      157.860           2.841480e+11                     125\n",
       "..     ...          ...                    ...                     ...\n",
       "500    YUM      130.360           3.654098e+10                     151\n",
       "501    ZBH      122.175           2.553222e+10                     162\n",
       "502   ZBRA      266.650           1.369504e+10                      74\n",
       "503   ZION       43.860           6.497806e+09                     451\n",
       "504    ZTS      197.735           9.078285e+10                     100\n",
       "\n",
       "[505 rows x 4 columns]"
      ]
     },
     "execution_count": 77,
     "metadata": {},
     "output_type": "execute_result"
    }
   ],
   "source": [
    "position_size = portfolio_size / int(len(final_dataframe.index))\n",
    "for i in range(0, len(final_dataframe.index)):\n",
    "    final_dataframe.loc[i, 'Number of Shares to Buy'] = math.floor(position_size / final_dataframe.loc[i, 'Stock Price'])\n",
    "\n",
    "final_dataframe\n",
    "# num_aapl_shares = position_size / 500 \n",
    "# print(math.floor(num_aapl_shares))"
   ]
  },
  {
   "cell_type": "markdown",
   "metadata": {},
   "source": [
    "## Formatting Our Excel Output\n",
    "\n",
    "We will be using the XlsxWriter library for Python to create nicely-formatted Excel files.\n",
    "\n",
    "XlsxWriter is an excellent package and offers tons of customization. However, the tradeoff for this is that the library can seem very complicated to new users. Accordingly, this section will be fairly long because I want to do a good job of explaining how XlsxWriter works.\n",
    "\n",
    "### Initializing our XlsxWriter Object"
   ]
  },
  {
   "cell_type": "code",
   "execution_count": 106,
   "metadata": {},
   "outputs": [],
   "source": [
    "writer = pd.ExcelWriter('recommended trades.xlsx', engine='xlsxwriter')\n",
    "final_dataframe.to_excel(writer, 'Recommended Trades', index=False)"
   ]
  },
  {
   "cell_type": "markdown",
   "metadata": {},
   "source": [
    "### Creating the Formats We'll Need For Our `.xlsx` File\n",
    "\n",
    "Formats include colors, fonts, and also symbols like `%` and `$`. We'll need four main formats for our Excel document:\n",
    "* String format for tickers\n",
    "* \\\\$XX.XX format for stock prices\n",
    "* \\\\$XX,XXX format for market capitalization\n",
    "* Integer format for the number of shares to purchase"
   ]
  },
  {
   "cell_type": "code",
   "execution_count": 107,
   "metadata": {},
   "outputs": [],
   "source": [
    "background_color = '#0a0a23'\n",
    "font_color = '#ffffff'\n",
    "\n",
    "string_format = writer.book.add_format(\n",
    "    {\n",
    "        \"font_color\": font_color,\n",
    "        \"bg_color\": background_color,        \n",
    "        \"border\": 1\n",
    "    }\n",
    ")\n",
    "\n",
    "dollar_format = writer.book.add_format(\n",
    "    {\n",
    "        \"num_format\": '$0.00',\n",
    "        \"font_color\": font_color,\n",
    "        \"bg_color\": background_color,        \n",
    "        \"border\": 1\n",
    "    }\n",
    ")\n",
    "\n",
    "integer_format = writer.book.add_format(\n",
    "    {\n",
    "        \"num_format\": '0',\n",
    "        \"font_color\": font_color,\n",
    "        \"bg_color\": background_color,        \n",
    "        \"border\": 1\n",
    "    }\n",
    ")"
   ]
  },
  {
   "cell_type": "markdown",
   "metadata": {},
   "source": [
    "### Applying the Formats to the Columns of Our `.xlsx` File\n",
    "\n",
    "We can use the `set_column` method applied to the `writer.sheets['Recommended Trades']` object to apply formats to specific columns of our spreadsheets.\n",
    "\n",
    "Here's an example:\n",
    "\n",
    "```python\n",
    "writer.sheets['Recommended Trades'].set_column('B:B', #This tells the method to apply the format to column B\n",
    "                     18, #This tells the method to apply a column width of 18 pixels\n",
    "                     string_template #This applies the format 'string_template' to the column\n",
    "                    )\n",
    "```"
   ]
  },
  {
   "cell_type": "code",
   "execution_count": 104,
   "metadata": {},
   "outputs": [
    {
     "data": {
      "text/plain": [
       "0"
      ]
     },
     "execution_count": 104,
     "metadata": {},
     "output_type": "execute_result"
    }
   ],
   "source": [
    "# writer.sheets['Recommended Trades'].set_column('A:A', 18, string_format)\n",
    "# writer.sheets['Recommended Trades'].set_column('B:B', 18, string_format)\n",
    "# writer.sheets['Recommended Trades'].set_column('C:C', 18, string_format)\n",
    "# writer.sheets['Recommended Trades'].set_column('D:D', 18, string_format)\n",
    "# writer.close()\n",
    "\n",
    "# writer.sheets['Recommended Trades'].write('A1', 'Ticker', string_format)\n",
    "# writer.sheets['Recommended Trades'].write('B1', 'Stock Price', dollar_format)\n",
    "# writer.sheets['Recommended Trades'].write('C1', 'Market Capitalisation', dollar_format)\n",
    "# writer.sheets['Recommended Trades'].write('D1', 'Number of Shares to Buy', integer_format)"
   ]
  },
  {
   "cell_type": "markdown",
   "metadata": {},
   "source": [
    "This code works, but it violates the software principle of \"Don't Repeat Yourself\". \n",
    "\n",
    "Let's simplify this by putting it in 2 loops:"
   ]
  },
  {
   "cell_type": "code",
   "execution_count": 108,
   "metadata": {},
   "outputs": [],
   "source": [
    "column_formats = {\n",
    "    'A': ['Ticker', string_format],\n",
    "    'B': ['Stock Price', dollar_format],\n",
    "    'C': ['Market Capitalisation', dollar_format],\n",
    "    'D': ['Number of Shares to Buy', integer_format]\n",
    "}\n",
    "\n",
    "for column in column_formats.keys():\n",
    "    writer.sheets['Recommended Trades'].set_column(f'{column}:{column}', 18, column_formats[column][1])\n",
    "    writer.sheets['Recommended Trades'].write(f'{column}1', column_formats[column][0], column_formats[column][1])\n"
   ]
  },
  {
   "cell_type": "markdown",
   "metadata": {},
   "source": [
    "## Saving Our Excel Output\n",
    "\n",
    "Saving our Excel file is very easy:"
   ]
  },
  {
   "cell_type": "code",
   "execution_count": null,
   "metadata": {},
   "outputs": [],
   "source": [
    "writer.close()"
   ]
  }
 ],
 "metadata": {
  "kernelspec": {
   "display_name": "Python 3 (ipykernel)",
   "language": "python",
   "name": "python3"
  },
  "language_info": {
   "codemirror_mode": {
    "name": "ipython",
    "version": 3
   },
   "file_extension": ".py",
   "mimetype": "text/x-python",
   "name": "python",
   "nbconvert_exporter": "python",
   "pygments_lexer": "ipython3",
   "version": "3.10.12"
  }
 },
 "nbformat": 4,
 "nbformat_minor": 4
}
